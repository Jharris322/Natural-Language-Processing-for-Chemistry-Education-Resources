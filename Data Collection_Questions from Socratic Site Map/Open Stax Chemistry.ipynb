{
 "cells": [
  {
   "cell_type": "code",
   "execution_count": 1,
   "metadata": {
    "collapsed": true
   },
   "outputs": [],
   "source": [
    "import pandas as pd\n",
    "import numpy as np\n",
    "import matplotlib.pyplot as plt\n",
    "import requests\n",
    "from bs4 import BeautifulSoup\n",
    "import regex as re\n",
    "from scrapy.selector import Selector\n",
    "from scrapy.http import HtmlResponse"
   ]
  },
  {
   "cell_type": "code",
   "execution_count": null,
   "metadata": {
    "collapsed": true
   },
   "outputs": [],
   "source": [
    "# hyperlink = \"https://archive.cnx.org/contents/havxkyvS@9.423:Gv1bKcKt@6/Chemistry-in-Context\"\n",
    "# name = requests.get(hyperlink)\n",
    "# #soup = BeautifulSoup(name, 'lxml')"
   ]
  },
  {
   "cell_type": "code",
   "execution_count": null,
   "metadata": {
    "collapsed": true
   },
   "outputs": [],
   "source": [
    "# Turns JSON from https://archive.cnx.org/contents/85abf193-2bd2-4908-8563-90b8a7ac8df6%409.423.json to dictionary \n",
    "\n",
    "# with open('chem_directory') as f:\n",
    "#         read_data = f.read()\n",
    "# read_data=read_data.replace('null','None').replace('false','False')\n",
    "# exec('dict='+read_data)"
   ]
  },
  {
   "cell_type": "code",
   "execution_count": null,
   "metadata": {
    "collapsed": true
   },
   "outputs": [],
   "source": [
    "# This code scraped html from the Open Stax pages and saved them to a\n",
    "# dictionary. The dictionary has been pickled, so only use this code\n",
    "# if pickled file needs to be replaced\n",
    "\n",
    "\n",
    "# with open('chem_directory') as f:\n",
    "#         read_data = f.read()\n",
    "# read_data=read_data.replace('null','None').replace('false','False')\n",
    "# exec('dict='+read_data)\n",
    "\n",
    "# import time\n",
    "# pages={}\n",
    "# for chapter in dict['tree']['contents'][1:22]:\n",
    "#     chapter_title=chapter['title']\n",
    "#     pages[chapter_title]={}\n",
    "#     for section in chapter['contents'][1:]:\n",
    "#         #print(chapter_title)        \n",
    "#         hyperlink='https://archive.cnx.org/contents/'+section['id']\n",
    "#         name = requests.get(hyperlink)\n",
    "\n",
    "#         section_title=section['title']\n",
    "#         pages[chapter_title][section_title]= name.text\n",
    "#         time.sleep(1)\n",
    "\n",
    "# import pickle\n",
    "\n",
    "# pickle.dump( pages, open( \"open_stax.p\", \"wb\" ) )\n"
   ]
  },
  {
   "cell_type": "code",
   "execution_count": null,
   "metadata": {
    "collapsed": true
   },
   "outputs": [],
   "source": [
    "import pickle\n",
    "\n",
    "pages = pickle.load( open( \"open_stax.p\", \"rb\" ) )\n"
   ]
  },
  {
   "cell_type": "code",
   "execution_count": null,
   "metadata": {
    "collapsed": true
   },
   "outputs": [],
   "source": [
    "df=pd.DataFrame.from_dict({(i,j): pages[i][j] \n",
    "                           for i in pages.keys() \n",
    "                           for j in pages[i].keys()},\n",
    "                       orient='index')\n"
   ]
  },
  {
   "cell_type": "code",
   "execution_count": null,
   "metadata": {
    "collapsed": true
   },
   "outputs": [],
   "source": [
    "df['label']=df.index\n",
    "df['chapter']=df['label'].apply(lambda x: x[0])\n",
    "df['section']=df['label'].apply(lambda x: x[1])"
   ]
  },
  {
   "cell_type": "code",
   "execution_count": null,
   "metadata": {
    "collapsed": true
   },
   "outputs": [],
   "source": [
    "df.head()"
   ]
  },
  {
   "cell_type": "code",
   "execution_count": null,
   "metadata": {
    "collapsed": true
   },
   "outputs": [],
   "source": [
    "seed_df=pd.DataFrame([['a','a','a'],['a','a','a'],['a','a','a']])"
   ]
  },
  {
   "cell_type": "code",
   "execution_count": null,
   "metadata": {
    "collapsed": true
   },
   "outputs": [],
   "source": [
    "# This code cleaned up html text and put in dataframe\n",
    "# for i in range(150):\n",
    "#     try:\n",
    "#         tsoup= BeautifulSoup(df[0][i], 'lxml')\n",
    "#         html=Selector(text=tsoup.prettify()).xpath(\"//p\").extract()\n",
    "#         for entry in html:\n",
    "#             paragraph=entry.replace(\"\\n   \",'').replace(\"\\n\",\"\").replace(' <sup>  ',\"\").replace(' </sup> ','').replace(' <sub>  ',\"\").replace(' </sub> ','')\n",
    "#             seed_df=seed_df.append([[df.iloc[i,2],df.iloc[i,3],paragraph]])\n",
    "#     except:\n",
    "#         break"
   ]
  },
  {
   "cell_type": "code",
   "execution_count": null,
   "metadata": {
    "collapsed": true
   },
   "outputs": [],
   "source": [
    "seed_df.columns=['Chapter','Section','Text']"
   ]
  },
  {
   "cell_type": "code",
   "execution_count": null,
   "metadata": {
    "collapsed": true
   },
   "outputs": [],
   "source": [
    "seed_df.index=list(range(seed_df.shape[0]))"
   ]
  },
  {
   "cell_type": "code",
   "execution_count": null,
   "metadata": {
    "collapsed": true
   },
   "outputs": [],
   "source": [
    "seed_df.head()"
   ]
  },
  {
   "cell_type": "code",
   "execution_count": null,
   "metadata": {
    "collapsed": true
   },
   "outputs": [],
   "source": [
    "seed_df=seed_df[3:]"
   ]
  },
  {
   "cell_type": "code",
   "execution_count": null,
   "metadata": {
    "collapsed": true
   },
   "outputs": [],
   "source": [
    "# import pickle\n",
    "\n",
    "# pickle.dump( seed_df, open( \"open_stax_dataset.p\", \"wb\" ) )"
   ]
  },
  {
   "cell_type": "code",
   "execution_count": null,
   "metadata": {
    "collapsed": true
   },
   "outputs": [],
   "source": [
    "import pickle\n",
    "\n",
    "seed_df = pickle.load( open( \"open_stax_dataset.p\", \"rb\" ) )\n"
   ]
  },
  {
   "cell_type": "code",
   "execution_count": null,
   "metadata": {
    "collapsed": true
   },
   "outputs": [],
   "source": [
    "seed_df.shape"
   ]
  },
  {
   "cell_type": "code",
   "execution_count": null,
   "metadata": {
    "collapsed": true
   },
   "outputs": [],
   "source": [
    "def remove_punctuation(x):\n",
    "    import re\n",
    "    x=re.sub(r'<.*?>','',x)\n",
    "    table= str.maketrans(dict.fromkeys('.,?!();:'))\n",
    "    return x.translate(table)\n",
    "def stem_the_text(x):\n",
    "    text_list=x.split()\n",
    "    new_text=''\n",
    "    from nltk.stem import PorterStemmer\n",
    "    stemmer = PorterStemmer()\n",
    "    for item in text_list:\n",
    "        if len(item)>3:\n",
    "            new_text +=stemmer.stem(item)+' '\n",
    "        else:\n",
    "            new_text +=item+' '\n",
    "    return new_text\n",
    "def rem_stem(x):\n",
    "    return stem_the_text(remove_punctuation(x))"
   ]
  },
  {
   "cell_type": "code",
   "execution_count": null,
   "metadata": {
    "collapsed": true
   },
   "outputs": [],
   "source": [
    "seed_df['Stemmed']=seed_df['Text'].apply(rem_stem)"
   ]
  },
  {
   "cell_type": "code",
   "execution_count": null,
   "metadata": {
    "collapsed": true
   },
   "outputs": [],
   "source": [
    "seed_df=seed_df[~seed_df['Stemmed'].duplicated(keep=False)]"
   ]
  },
  {
   "cell_type": "code",
   "execution_count": null,
   "metadata": {
    "collapsed": true
   },
   "outputs": [],
   "source": [
    "# import pickle\n",
    "\n",
    "# pickle.dump( seed_df, open( \"stemmed_df.p\", \"wb\" ) )"
   ]
  },
  {
   "cell_type": "code",
   "execution_count": 2,
   "metadata": {
    "collapsed": true
   },
   "outputs": [],
   "source": [
    "import pickle\n",
    "\n",
    "seed_df=pickle.load( open( \"stemmed_df.p\", \"rb\" ) )"
   ]
  },
  {
   "cell_type": "code",
   "execution_count": 3,
   "metadata": {
    "collapsed": true
   },
   "outputs": [],
   "source": [
    "def get_word_count(x):\n",
    "    return len(x.split())"
   ]
  },
  {
   "cell_type": "code",
   "execution_count": 4,
   "metadata": {
    "collapsed": true
   },
   "outputs": [],
   "source": [
    "seed_df=seed_df[seed_df['Stemmed'].apply(get_word_count)>10]"
   ]
  },
  {
   "cell_type": "code",
   "execution_count": 5,
   "metadata": {},
   "outputs": [
    {
     "data": {
      "text/plain": [
       "14241"
      ]
     },
     "execution_count": 5,
     "metadata": {},
     "output_type": "execute_result"
    }
   ],
   "source": [
    "from sklearn.feature_extraction.text import CountVectorizer\n",
    "cv=CountVectorizer(min_df=6, max_df=.18, ngram_range=(1,4),binary=True)\n",
    "cv.fit(seed_df['Stemmed'])\n",
    "soil=cv.transform(seed_df['Stemmed'])\n",
    "len(cv.get_feature_names())"
   ]
  },
  {
   "cell_type": "code",
   "execution_count": 6,
   "metadata": {},
   "outputs": [
    {
     "data": {
      "text/plain": [
       "['ab',\n",
       " 'abbrevi',\n",
       " 'abil',\n",
       " 'abil of',\n",
       " 'abil to',\n",
       " 'abl',\n",
       " 'abl to',\n",
       " 'about',\n",
       " 'about 10',\n",
       " 'about 20',\n",
       " 'about 25',\n",
       " 'about of',\n",
       " 'about of the',\n",
       " 'about one',\n",
       " 'about the',\n",
       " 'abov',\n",
       " 'abov the',\n",
       " 'absenc',\n",
       " 'absenc of',\n",
       " 'absenc of air',\n",
       " 'absolut',\n",
       " 'absolut temperatur',\n",
       " 'absorb',\n",
       " 'absorb by',\n",
       " 'absorb by the',\n",
       " 'absorb heat',\n",
       " 'absorb or',\n",
       " 'absorpt',\n",
       " 'absorpt of',\n",
       " 'abstract',\n",
       " 'abund',\n",
       " 'abund of',\n",
       " 'acceler',\n",
       " 'accept',\n",
       " 'accept proton',\n",
       " 'acceptor',\n",
       " 'accommod',\n",
       " 'accompani',\n",
       " 'accompani by',\n",
       " 'accompani the',\n",
       " 'accomplish',\n",
       " 'accord',\n",
       " 'accord to',\n",
       " 'accord to the',\n",
       " 'accord to the equat',\n",
       " 'accord to the follow',\n",
       " 'accord to thi',\n",
       " 'accord to thi equat',\n",
       " 'accord with',\n",
       " 'account',\n",
       " 'account for',\n",
       " 'account for the',\n",
       " 'accumul',\n",
       " 'accur',\n",
       " 'accuraci',\n",
       " 'acet',\n",
       " 'acet acid',\n",
       " 'acet acid and',\n",
       " 'acet acid ch',\n",
       " 'acet acid ch co',\n",
       " 'acet ion',\n",
       " 'acetylen',\n",
       " 'achiev',\n",
       " 'achiev the',\n",
       " 'acid',\n",
       " 'acid and',\n",
       " 'acid and base',\n",
       " 'acid and its',\n",
       " 'acid and the',\n",
       " 'acid are',\n",
       " 'acid as',\n",
       " 'acid bas',\n",
       " 'acid bas reaction',\n",
       " 'acid basic',\n",
       " 'acid basic or',\n",
       " 'acid becaus',\n",
       " 'acid by',\n",
       " 'acid can',\n",
       " 'acid ch',\n",
       " 'acid ch co',\n",
       " 'acid co',\n",
       " 'acid for',\n",
       " 'acid form',\n",
       " 'acid ha',\n",
       " 'acid hcl',\n",
       " 'acid hno',\n",
       " 'acid in',\n",
       " 'acid in the',\n",
       " 'acid increas',\n",
       " 'acid ioniz',\n",
       " 'acid ioniz in',\n",
       " 'acid is',\n",
       " 'acid is the',\n",
       " 'acid it',\n",
       " 'acid molecul',\n",
       " 'acid of',\n",
       " 'acid of the',\n",
       " 'acid or',\n",
       " 'acid or base',\n",
       " 'acid or basic',\n",
       " 'acid oxid',\n",
       " 'acid rain',\n",
       " 'acid react',\n",
       " 'acid react with',\n",
       " 'acid so',\n",
       " 'acid solut',\n",
       " 'acid strength',\n",
       " 'acid such',\n",
       " 'acid such as',\n",
       " 'acid than',\n",
       " 'acid that',\n",
       " 'acid the',\n",
       " 'acid thi',\n",
       " 'acid to',\n",
       " 'acid to form',\n",
       " 'acid when',\n",
       " 'acid which',\n",
       " 'acid with',\n",
       " 'across',\n",
       " 'across period',\n",
       " 'across the',\n",
       " 'act',\n",
       " 'act as',\n",
       " 'act as lewi',\n",
       " 'action',\n",
       " 'action of',\n",
       " 'activ',\n",
       " 'activ complex',\n",
       " 'activ energi',\n",
       " 'activ energi for',\n",
       " 'activ energi for the',\n",
       " 'activ energi of',\n",
       " 'activ ingredi',\n",
       " 'activ ingredi in',\n",
       " 'activ metal',\n",
       " 'activ metal such',\n",
       " 'activ metal such as',\n",
       " 'activ of',\n",
       " 'actual',\n",
       " 'ad',\n",
       " 'ad base',\n",
       " 'ad the',\n",
       " 'ad to',\n",
       " 'ad to an',\n",
       " 'ad to solut',\n",
       " 'ad to solut of',\n",
       " 'ad to the',\n",
       " 'add',\n",
       " 'add an',\n",
       " 'addit',\n",
       " 'addit electron',\n",
       " 'addit of',\n",
       " 'addit the',\n",
       " 'addit to',\n",
       " 'addit to the',\n",
       " 'adequ',\n",
       " 'adher',\n",
       " 'adhes',\n",
       " 'adjac',\n",
       " 'adjust',\n",
       " 'adjust the',\n",
       " 'adopt',\n",
       " 'advanc',\n",
       " 'advantag',\n",
       " 'advantag of',\n",
       " 'affect',\n",
       " 'affect by',\n",
       " 'affect the',\n",
       " 'affect the rate',\n",
       " 'affect the rate of',\n",
       " 'affin',\n",
       " 'afor',\n",
       " 'after',\n",
       " 'after the',\n",
       " 'ag',\n",
       " 'ag ag',\n",
       " 'ag and',\n",
       " 'ag cl',\n",
       " 'ag is',\n",
       " 'ag nh',\n",
       " 'ag nh ag',\n",
       " 'ag nh ag nh',\n",
       " 'again',\n",
       " 'against',\n",
       " 'agbr',\n",
       " 'agcl',\n",
       " 'agcn',\n",
       " 'age',\n",
       " 'age of',\n",
       " 'agenc',\n",
       " 'agent',\n",
       " 'agent and',\n",
       " 'agent and the',\n",
       " 'agent for',\n",
       " 'agent in',\n",
       " 'agi',\n",
       " 'agno',\n",
       " 'ago',\n",
       " 'agre',\n",
       " 'agreement',\n",
       " 'agricultur',\n",
       " 'aid',\n",
       " 'air',\n",
       " 'air and',\n",
       " 'air at',\n",
       " 'air in',\n",
       " 'air in the',\n",
       " 'air is',\n",
       " 'air the',\n",
       " 'air to',\n",
       " 'al',\n",
       " 'al al',\n",
       " 'al oh',\n",
       " 'al oh al',\n",
       " 'al oh al oh',\n",
       " 'al3',\n",
       " 'alcohol',\n",
       " 'aldehyd',\n",
       " 'alf',\n",
       " 'algebra',\n",
       " 'alkali',\n",
       " 'alkali metal',\n",
       " 'alkali metal and',\n",
       " 'alkalin',\n",
       " 'alkalin earth',\n",
       " 'alkalin earth metal',\n",
       " 'alkan',\n",
       " 'alken',\n",
       " 'alkyl',\n",
       " 'alkyl group',\n",
       " 'alkyn',\n",
       " 'all',\n",
       " 'all atom',\n",
       " 'all have',\n",
       " 'all have the',\n",
       " 'all have the same',\n",
       " 'all of',\n",
       " 'all of the',\n",
       " 'all of these',\n",
       " 'all other',\n",
       " 'all reactant',\n",
       " 'all the',\n",
       " 'all three',\n",
       " 'allotrop',\n",
       " 'allotrop of',\n",
       " 'allow',\n",
       " 'allow for',\n",
       " 'allow the',\n",
       " 'allow to',\n",
       " 'allow us',\n",
       " 'allow us to',\n",
       " 'alloy',\n",
       " 'almost',\n",
       " 'almost all',\n",
       " 'aloh',\n",
       " 'along',\n",
       " 'along the',\n",
       " 'along the axi',\n",
       " 'along with',\n",
       " 'along with the',\n",
       " 'alpha',\n",
       " 'alpha particl',\n",
       " 'alreadi',\n",
       " 'also',\n",
       " 'also an',\n",
       " 'also be',\n",
       " 'also be use',\n",
       " 'also be use to',\n",
       " 'also call',\n",
       " 'also call the',\n",
       " 'also contain',\n",
       " 'also exhibit',\n",
       " 'also form',\n",
       " 'also has',\n",
       " 'also have',\n",
       " 'also import',\n",
       " 'also known',\n",
       " 'also known as',\n",
       " 'also possibl',\n",
       " 'also the',\n",
       " 'also use',\n",
       " 'also use to',\n",
       " 'altern',\n",
       " 'although',\n",
       " 'although it',\n",
       " 'although the',\n",
       " 'although they',\n",
       " 'although thi',\n",
       " 'aluminum',\n",
       " 'aluminum and',\n",
       " 'aluminum hydroxid',\n",
       " 'aluminum ion',\n",
       " 'aluminum is',\n",
       " 'aluminum oxid',\n",
       " 'alway',\n",
       " 'alway be',\n",
       " 'alway the',\n",
       " 'amalgam',\n",
       " 'american',\n",
       " 'amid',\n",
       " 'amin',\n",
       " 'amino',\n",
       " 'amino acid',\n",
       " 'amino acid is',\n",
       " 'ammonia',\n",
       " 'ammonia in',\n",
       " 'ammonia is',\n",
       " 'ammonia molecul',\n",
       " 'ammonia nh',\n",
       " 'ammonium',\n",
       " 'ammonium chlorid',\n",
       " 'ammonium ion',\n",
       " 'ammonium nitrat',\n",
       " 'among',\n",
       " 'among other',\n",
       " 'among the',\n",
       " 'amorph',\n",
       " 'amount',\n",
       " 'amount and',\n",
       " 'amount in',\n",
       " 'amount is',\n",
       " 'amount of',\n",
       " 'amount of energi',\n",
       " 'amount of energi is',\n",
       " 'amount of gas',\n",
       " 'amount of heat',\n",
       " 'amount of heat absorb',\n",
       " 'amount of matter',\n",
       " 'amount of naoh',\n",
       " 'amount of product',\n",
       " 'amount of reactant',\n",
       " 'amount of solid',\n",
       " 'amount of solut',\n",
       " 'amount of substanc',\n",
       " 'amount of the',\n",
       " 'amount of water',\n",
       " 'amount the',\n",
       " 'amount to',\n",
       " 'amp',\n",
       " 'amp rate',\n",
       " 'amp rate interact',\n",
       " 'amphiprot',\n",
       " 'amphoter',\n",
       " 'amplitud',\n",
       " 'amu',\n",
       " 'amu and',\n",
       " 'amu is',\n",
       " 'amu the',\n",
       " 'an',\n",
       " 'an acid',\n",
       " 'an acid and',\n",
       " 'an acid bas',\n",
       " 'an acid bas reaction',\n",
       " 'an acid is',\n",
       " 'an acid or',\n",
       " 'an acid or base',\n",
       " 'an activ',\n",
       " 'an addit',\n",
       " 'an alcohol',\n",
       " 'an aldehyd',\n",
       " 'an altern',\n",
       " 'an aluminum',\n",
       " 'an amalgam',\n",
       " 'an amount',\n",
       " 'an angl',\n",
       " 'an anion',\n",
       " 'an appropri',\n",
       " 'an approxim',\n",
       " 'an aqueou',\n",
       " 'an aqueou solut',\n",
       " 'an aqueou solut of',\n",
       " 'an atom',\n",
       " 'an atom is',\n",
       " 'an atom of',\n",
       " 'an atom of the',\n",
       " 'an automobil',\n",
       " 'an averag',\n",
       " 'an earlier',\n",
       " 'an earlier chapter',\n",
       " 'an edg',\n",
       " 'an edg length',\n",
       " 'an edg length of',\n",
       " 'an electr',\n",
       " 'an electr current',\n",
       " 'an electrolyt',\n",
       " 'an electron',\n",
       " 'an electron from',\n",
       " 'an electron in',\n",
       " 'an electron in an',\n",
       " 'an electron is',\n",
       " 'an electron to',\n",
       " 'an electron with',\n",
       " 'an element',\n",
       " 'an elementari',\n",
       " 'an elementari reaction',\n",
       " 'an empir',\n",
       " 'an empir formula',\n",
       " 'an endotherm',\n",
       " 'an endotherm process',\n",
       " 'an enthalpi',\n",
       " 'an equat',\n",
       " 'an equat for',\n",
       " 'an equilibrium',\n",
       " 'an equilibrium constant',\n",
       " 'an equilibrium mixtur',\n",
       " 'an equilibrium mixtur of',\n",
       " 'an essenti',\n",
       " 'an exampl',\n",
       " 'an exampl of',\n",
       " 'an exampl of an',\n",
       " 'an exampl of the',\n",
       " 'an excel',\n",
       " 'an excess',\n",
       " 'an excess of',\n",
       " 'an exotherm',\n",
       " 'an exotherm process',\n",
       " 'an exotherm reaction',\n",
       " 'an explan',\n",
       " 'an extens',\n",
       " 'an extens properti',\n",
       " 'an extern',\n",
       " 'an fcc',\n",
       " 'an ice',\n",
       " 'an ideal',\n",
       " 'an ideal gas',\n",
       " 'an ideal solut',\n",
       " 'an import',\n",
       " 'an import role',\n",
       " 'an import role in',\n",
       " 'an increas',\n",
       " 'an increas in',\n",
       " 'an increas in the',\n",
       " 'an indic',\n",
       " 'an inert',\n",
       " 'an initi',\n",
       " 'an intens',\n",
       " 'an intens properti',\n",
       " 'an intermedi',\n",
       " 'an ion',\n",
       " 'an ionic',\n",
       " 'an ionic compound',\n",
       " 'an ionic compound is',\n",
       " 'an isol',\n",
       " 'an object',\n",
       " 'an octahedr',\n",
       " 'an odd',\n",
       " 'an odd number',\n",
       " 'an open',\n",
       " 'an open end',\n",
       " 'an orbit',\n",
       " 'an organ',\n",
       " 'an oxid',\n",
       " 'an oxid agent',\n",
       " 'an oxid state',\n",
       " 'an oxid state of',\n",
       " 'an oxygen',\n",
       " 'an oxygen atom',\n",
       " 'an particl',\n",
       " 'an ray',\n",
       " 'an unknown',\n",
       " 'an unstabl',\n",
       " 'analog',\n",
       " 'analog to',\n",
       " 'analog to the',\n",
       " 'analysi',\n",
       " 'analysi of',\n",
       " 'analyt',\n",
       " 'analyz',\n",
       " 'ancient',\n",
       " 'and 010',\n",
       " 'and 10',\n",
       " 'and 100',\n",
       " 'and 25',\n",
       " 'and acet',\n",
       " 'and ad',\n",
       " 'and addit',\n",
       " 'and after',\n",
       " 'and after the',\n",
       " 'and air',\n",
       " 'and all',\n",
       " 'and aluminum',\n",
       " 'and an',\n",
       " 'and an electron',\n",
       " 'and and',\n",
       " 'and and the',\n",
       " 'and anim',\n",
       " 'and anion',\n",
       " 'and are',\n",
       " 'and as',\n",
       " 'and at',\n",
       " 'and atm',\n",
       " 'and atmospher',\n",
       " 'and atom',\n",
       " 'and balanc',\n",
       " 'and base',\n",
       " 'and be',\n",
       " 'and between',\n",
       " 'and boil',\n",
       " 'and boil point',\n",
       " 'and bond',\n",
       " 'and both',\n",
       " 'and by',\n",
       " 'and calcium',\n",
       " 'and calcul',\n",
       " 'and calcul the',\n",
       " 'and can',\n",
       " 'and can be',\n",
       " 'and cannot',\n",
       " 'and carbon',\n",
       " 'and carbon dioxid',\n",
       " 'and caus',\n",
       " 'and ch',\n",
       " 'and ch co',\n",
       " 'and chang',\n",
       " 'and charg',\n",
       " 'and chemic',\n",
       " 'and chlorid',\n",
       " 'and chlorid ion',\n",
       " 'and chlorin',\n",
       " 'and cl',\n",
       " 'and cl ion',\n",
       " 'and co',\n",
       " 'and combin',\n",
       " 'and compar',\n",
       " 'and compound',\n",
       " 'and concentr',\n",
       " 'and concentr of',\n",
       " 'and condens',\n",
       " 'and consequ',\n",
       " 'and contain',\n",
       " 'and convert',\n",
       " 'and copper',\n",
       " 'and coval',\n",
       " 'and decreas',\n",
       " 'and densiti',\n",
       " 'and describ',\n",
       " 'and determin',\n",
       " 'and determin the',\n",
       " 'and do',\n",
       " 'and do not',\n",
       " 'and doe',\n",
       " 'and doe not',\n",
       " 'and each',\n",
       " 'and electr',\n",
       " 'and electron',\n",
       " 'and end',\n",
       " 'and energi',\n",
       " 'and enthalpi',\n",
       " 'and entropi',\n",
       " 'and entropi chang',\n",
       " 'and equilibrium',\n",
       " 'and ethyl',\n",
       " 'and ethyl acet',\n",
       " 'and exhibit',\n",
       " 'and explain',\n",
       " 'and final',\n",
       " 'and fluorin',\n",
       " 'and for',\n",
       " 'and for the',\n",
       " 'and form',\n",
       " 'and found',\n",
       " 'and four',\n",
       " 'and from',\n",
       " 'and gaseou',\n",
       " 'and give',\n",
       " 'and give the',\n",
       " 'and has',\n",
       " 'and have',\n",
       " 'and heat',\n",
       " 'and henc',\n",
       " 'and hi',\n",
       " 'and high',\n",
       " 'and higher',\n",
       " 'and how',\n",
       " 'and hybrid',\n",
       " 'and hydrogen',\n",
       " 'and hydroxid',\n",
       " 'and hydroxid ion',\n",
       " 'and if',\n",
       " 'and in',\n",
       " 'and in the',\n",
       " 'and includ',\n",
       " 'and increas',\n",
       " 'and inner',\n",
       " 'and inner transit',\n",
       " 'and iodin',\n",
       " 'and ion',\n",
       " 'and ionic',\n",
       " 'and iron',\n",
       " 'and is',\n",
       " 'and is the',\n",
       " 'and is use',\n",
       " 'and it',\n",
       " 'and it is',\n",
       " 'and its',\n",
       " 'and its salt',\n",
       " 'and kelvin',\n",
       " 'and lead',\n",
       " 'and lewi',\n",
       " 'and liquid',\n",
       " 'and liquid water',\n",
       " 'and lone',\n",
       " 'and lone pair',\n",
       " 'and low',\n",
       " 'and magnesium',\n",
       " 'and make',\n",
       " 'and mani',\n",
       " 'and mani other',\n",
       " 'and mass',\n",
       " 'and mass number',\n",
       " 'and mass of',\n",
       " 'and may',\n",
       " 'and may be',\n",
       " 'and measur',\n",
       " 'and melt',\n",
       " 'and metal',\n",
       " 'and molar',\n",
       " 'and molar mass',\n",
       " 'and mole',\n",
       " 'and mole of',\n",
       " 'and molecul',\n",
       " 'and molecular',\n",
       " 'and molecular formula',\n",
       " 'and molecular geometri',\n",
       " 'and molecular structur',\n",
       " 'and molecular structur of',\n",
       " 'and more',\n",
       " 'and most',\n",
       " 'and much',\n",
       " 'and na',\n",
       " 'and name',\n",
       " 'and neg',\n",
       " 'and neg charg',\n",
       " 'and neg ion',\n",
       " 'and net',\n",
       " 'and net ionic',\n",
       " 'and net ionic equat',\n",
       " 'and neutron',\n",
       " 'and nh',\n",
       " 'and nitrogen',\n",
       " 'and no',\n",
       " 'and no at',\n",
       " 'and no at equilibrium',\n",
       " 'and no no',\n",
       " 'and nonmet',\n",
       " 'and not',\n",
       " 'and nuclear',\n",
       " 'and number',\n",
       " 'and number of',\n",
       " 'and of',\n",
       " 'and oh',\n",
       " 'and on',\n",
       " 'and one',\n",
       " 'and one of',\n",
       " 'and onli',\n",
       " 'and or',\n",
       " 'and orbit',\n",
       " 'and orbit diagram',\n",
       " 'and other',\n",
       " 'and oxid',\n",
       " 'and oxygen',\n",
       " 'and oxygen atom',\n",
       " 'and partial',\n",
       " 'and ph',\n",
       " 'and phosphoru',\n",
       " 'and physic',\n",
       " 'and physic process',\n",
       " 'and poh',\n",
       " 'and potassium',\n",
       " 'and precipit',\n",
       " 'and predict',\n",
       " 'and predict the',\n",
       " 'and pressur',\n",
       " 'and pressur of',\n",
       " 'and produc',\n",
       " 'and product',\n",
       " 'and product are',\n",
       " 'and product at',\n",
       " 'and product at equilibrium',\n",
       " 'and product of',\n",
       " 'and product side',\n",
       " 'and rate',\n",
       " 'and react',\n",
       " 'and react with',\n",
       " 'and reactant',\n",
       " 'and reduc',\n",
       " 'and reduct',\n",
       " 'and rel',\n",
       " 'and repres',\n",
       " 'and requir',\n",
       " 'and result',\n",
       " 'and revers',\n",
       " 'and salt',\n",
       " 'and select',\n",
       " 'and select the',\n",
       " 'and sever',\n",
       " 'and shape',\n",
       " 'and silicon',\n",
       " 'and six',\n",
       " 'and so',\n",
       " 'and so forth',\n",
       " 'and so on',\n",
       " 'and so the',\n",
       " 'and sodium',\n",
       " 'and solid',\n",
       " 'and solut',\n",
       " 'and solut of',\n",
       " 'and solv',\n",
       " 'and solv for',\n",
       " 'and solvent',\n",
       " 'and some',\n",
       " 'and specif',\n",
       " 'and strong',\n",
       " 'and subsequ',\n",
       " 'and sulfur',\n",
       " 'and technolog',\n",
       " 'and temperatur',\n",
       " 'and temperatur of',\n",
       " 'and that',\n",
       " 'and that the',\n",
       " 'and the',\n",
       " 'and the amount',\n",
       " 'and the amount of',\n",
       " 'and the atom',\n",
       " 'and the charg',\n",
       " 'and the compound',\n",
       " 'and the concentr',\n",
       " 'and the concentr of',\n",
       " 'and the correspond',\n",
       " 'and the effect',\n",
       " 'and the electron',\n",
       " 'and the energi',\n",
       " 'and the hydroxid',\n",
       " 'and the hydroxid ion',\n",
       " 'and the mass',\n",
       " 'and the mass of',\n",
       " 'and the metal',\n",
       " 'and the molecular',\n",
       " 'and the molecular structur',\n",
       " 'and the neg',\n",
       " 'and the number',\n",
       " 'and the number of',\n",
       " 'and the orbit',\n",
       " 'and the other',\n",
       " 'and the overal',\n",
       " 'and the partial',\n",
       " 'and the ph',\n",
       " 'and the pressur',\n",
       " 'and the product',\n",
       " 'and the rate',\n",
       " 'and the rate constant',\n",
       " 'and the reaction',\n",
       " 'and the result',\n",
       " 'and the same',\n",
       " 'and the temperatur',\n",
       " 'and the total',\n",
       " 'and the two',\n",
       " 'and the valu',\n",
       " 'and the valu of',\n",
       " 'and the volum',\n",
       " 'and the volum of',\n",
       " 'and the water',\n",
       " 'and their',\n",
       " 'and then',\n",
       " 'and there',\n",
       " 'and there are',\n",
       " 'and therefor',\n",
       " 'and these',\n",
       " 'and they',\n",
       " 'and they are',\n",
       " 'and thi',\n",
       " 'and those',\n",
       " 'and three',\n",
       " 'and thu',\n",
       " 'and thu the',\n",
       " 'and tin',\n",
       " 'and to',\n",
       " 'and treat',\n",
       " 'and two',\n",
       " 'and two bond',\n",
       " 'and use',\n",
       " 'and vapor',\n",
       " 'and veri',\n",
       " 'and volum',\n",
       " 'and volum of',\n",
       " 'and water',\n",
       " 'and water in',\n",
       " 'and water is',\n",
       " 'and water the',\n",
       " 'and water vapor',\n",
       " 'and wavelength',\n",
       " 'and we',\n",
       " 'and weak',\n",
       " 'and what',\n",
       " 'and what is',\n",
       " 'and when',\n",
       " 'and which',\n",
       " 'and why',\n",
       " 'and will',\n",
       " 'and with',\n",
       " 'and would',\n",
       " 'and write',\n",
       " 'anesthet',\n",
       " 'angl',\n",
       " 'angl in',\n",
       " 'angl of',\n",
       " 'angstrom',\n",
       " 'angular',\n",
       " 'angular momentum',\n",
       " 'anhydr',\n",
       " 'anhydrid',\n",
       " 'anim',\n",
       " 'anion',\n",
       " 'anion in',\n",
       " 'anion the',\n",
       " 'anion with',\n",
       " 'annual',\n",
       " 'anod',\n",
       " 'anod and',\n",
       " 'anod is',\n",
       " 'anoth',\n",
       " 'anoth exampl',\n",
       " 'anoth the',\n",
       " 'answer',\n",
       " 'answer is',\n",
       " 'answer the',\n",
       " 'answer the follow',\n",
       " 'answer the follow question',\n",
       " 'antacid',\n",
       " 'antibond',\n",
       " 'antibond orbit',\n",
       " 'antifreez',\n",
       " 'any',\n",
       " 'any given',\n",
       " 'any of',\n",
       " 'any of the',\n",
       " 'any one',\n",
       " 'any one of',\n",
       " 'any one of the',\n",
       " 'any other',\n",
       " 'any reaction',\n",
       " 'apart',\n",
       " 'appar',\n",
       " 'apparatu',\n",
       " 'appear',\n",
       " 'appear as',\n",
       " 'appear in',\n",
       " 'appear in the',\n",
       " 'appear on',\n",
       " 'appear to',\n",
       " 'appear to be',\n",
       " 'appendix',\n",
       " 'appendix to',\n",
       " 'appli',\n",
       " 'appli to',\n",
       " 'applic',\n",
       " 'applic of',\n",
       " 'appreci',\n",
       " 'approach',\n",
       " 'approach is',\n",
       " 'approach to',\n",
       " 'appropri',\n",
       " 'appropri for',\n",
       " 'approxim',\n",
       " 'approxim 10',\n",
       " 'approxim amount',\n",
       " 'approxim amount of',\n",
       " 'approxim amount of heat',\n",
       " 'approxim equal',\n",
       " 'approxim equal to',\n",
       " 'approxim of',\n",
       " 'approxim the',\n",
       " 'approxim the same',\n",
       " 'aq',\n",
       " 'aq and',\n",
       " 'aqueou',\n",
       " 'aqueou sodium',\n",
       " 'aqueou sodium chlorid',\n",
       " 'aqueou solut',\n",
       " 'aqueou solut of',\n",
       " 'ar',\n",
       " 'are acid',\n",
       " 'are ad',\n",
       " 'are ad to',\n",
       " 'are all',\n",
       " 'are also',\n",
       " 'are also use',\n",
       " 'are alway',\n",
       " 'are approxim',\n",
       " 'are arrang',\n",
       " 'are arrang in',\n",
       " 'are as',\n",
       " 'are at',\n",
       " 'are at the',\n",
       " 'are attract',\n",
       " 'are avail',\n",
       " 'are base',\n",
       " 'are basic',\n",
       " 'are bond',\n",
       " 'are both',\n",
       " 'are call',\n",
       " 'are classifi',\n",
       " 'are classifi as',\n",
       " 'are combin',\n",
       " 'are compos',\n",
       " 'are compos of',\n",
       " 'are connect',\n",
       " 'are contain',\n",
       " 'are contain in',\n",
       " 'are conveni',\n",
       " 'are convert',\n",
       " 'are deriv',\n",
       " 'are describ',\n",
       " 'are determin',\n",
       " 'are differ',\n",
       " 'are difficult',\n",
       " 'are difficult to',\n",
       " 'are directli',\n",
       " 'are easier',\n",
       " 'are easier to',\n",
       " 'are electr',\n",
       " 'are equal',\n",
       " 'are equival',\n",
       " 'are essenti',\n",
       " 'are exampl',\n",
       " 'are exampl of',\n",
       " 'are extrem',\n",
       " 'are fill',\n",
       " 'are form',\n",
       " 'are found',\n",
       " 'are found in',\n",
       " 'are four',\n",
       " 'are gener',\n",
       " 'are given',\n",
       " 'are given in',\n",
       " 'are given in link',\n",
       " 'are given the',\n",
       " 'are held',\n",
       " 'are held togeth',\n",
       " 'are hydrogen',\n",
       " 'are ident',\n",
       " 'are import',\n",
       " 'are import in',\n",
       " 'are in',\n",
       " 'are in the',\n",
       " 'are involv',\n",
       " 'are involv in',\n",
       " 'are ionic',\n",
       " 'are known',\n",
       " 'are larg',\n",
       " 'are less',\n",
       " 'are limit',\n",
       " 'are list',\n",
       " 'are list in',\n",
       " 'are list in link',\n",
       " 'are locat',\n",
       " 'are lost',\n",
       " 'are made',\n",
       " 'are made of',\n",
       " 'are mani',\n",
       " 'are measur',\n",
       " 'are mix',\n",
       " 'are more',\n",
       " 'are much',\n",
       " 'are much more',\n",
       " 'are name',\n",
       " 'are necessari',\n",
       " 'are need',\n",
       " 'are no',\n",
       " 'are not',\n",
       " 'are now',\n",
       " 'are observ',\n",
       " 'are occupi',\n",
       " 'are of',\n",
       " 'are often',\n",
       " 'are often use',\n",
       " 'are on',\n",
       " 'are onli',\n",
       " 'are place',\n",
       " 'are possibl',\n",
       " 'are present',\n",
       " 'are present in',\n",
       " 'are present in the',\n",
       " 'are produc',\n",
       " 'are produc by',\n",
       " 'are produc by the',\n",
       " 'are provid',\n",
       " 'are quit',\n",
       " 'are reduc',\n",
       " 'are rel',\n",
       " 'are releas',\n",
       " 'are remov',\n",
       " 'are remov from',\n",
       " 'are requir',\n",
       " 'are requir to',\n",
       " 'are respons',\n",
       " 'are respons for',\n",
       " 'are respons for the',\n",
       " 'are said',\n",
       " 'are said to',\n",
       " ...]"
      ]
     },
     "execution_count": 6,
     "metadata": {},
     "output_type": "execute_result"
    }
   ],
   "source": [
    "cv.get_feature_names()[318:]"
   ]
  },
  {
   "cell_type": "code",
   "execution_count": null,
   "metadata": {
    "collapsed": true
   },
   "outputs": [],
   "source": [
    "# stems={}\n",
    "# for word in cv.get_feature_names()[5000:5002]:\n",
    "#     name0='stems'\n",
    "#     for number in range(1,min(7,len(word)+1)):\n",
    "#         exec('name{}'.format(number)+'=name{}'.format(number-1)+'+\"['+\"'\" +'{}'.format(word[:number])+\"'\"+']'+'\"')\n",
    "#       #  'name{}'.format(number)"
   ]
  },
  {
   "cell_type": "code",
   "execution_count": 7,
   "metadata": {
    "collapsed": true
   },
   "outputs": [],
   "source": [
    "soil=pd.DataFrame(soil.todense(),columns=cv.get_feature_names())"
   ]
  },
  {
   "cell_type": "code",
   "execution_count": 8,
   "metadata": {
    "collapsed": true
   },
   "outputs": [],
   "source": [
    "soil=soil[cv.get_feature_names()[318:]]"
   ]
  },
  {
   "cell_type": "code",
   "execution_count": null,
   "metadata": {
    "collapsed": true
   },
   "outputs": [],
   "source": [
    "import pickle\n",
    "\n",
    "pickle.dump( soil, open( \"count_vectorized_df.p\", \"wb\" ) )"
   ]
  },
  {
   "cell_type": "code",
   "execution_count": null,
   "metadata": {
    "collapsed": true
   },
   "outputs": [],
   "source": [
    "import pickle\n",
    "\n",
    "soil=pickle.load( open( \"count_vectorized_df.p\", \"rb\" ) )"
   ]
  },
  {
   "cell_type": "code",
   "execution_count": null,
   "metadata": {
    "collapsed": true
   },
   "outputs": [],
   "source": [
    "# from sklearn.decomposition import PCA, TruncatedSVD\n",
    "# # svd=TruncatedSVD(20)\n",
    "# # svd.fit(soil)\n",
    "# # svd_soil=svd.transform(soil)\n",
    "\n",
    "# pca=PCA()\n",
    "# pca.fit(soil)\n",
    "# #pca_soil=pca.transform(soil)"
   ]
  },
  {
   "cell_type": "code",
   "execution_count": null,
   "metadata": {
    "collapsed": true
   },
   "outputs": [],
   "source": [
    "soil.shape"
   ]
  },
  {
   "cell_type": "code",
   "execution_count": null,
   "metadata": {
    "collapsed": true
   },
   "outputs": [],
   "source": [
    "from sklearn.decomposition import TruncatedSVD\n",
    "pca=TruncatedSVD(500)\n",
    "pca.fit(soil.as_matrix())\n"
   ]
  },
  {
   "cell_type": "code",
   "execution_count": null,
   "metadata": {
    "collapsed": true
   },
   "outputs": [],
   "source": [
    "pca.explained_variance_ratio_.sum()"
   ]
  },
  {
   "cell_type": "code",
   "execution_count": 9,
   "metadata": {},
   "outputs": [],
   "source": [
    "from sklearn.metrics import confusion_matrix, classification_report\n",
    "from sklearn.model_selection import train_test_split\n",
    "X_train, X_test, y_train, y_test = train_test_split(soil.as_matrix(), seed_df['Chapter'])\n"
   ]
  },
  {
   "cell_type": "code",
   "execution_count": 11,
   "metadata": {},
   "outputs": [
    {
     "name": "stdout",
     "output_type": "stream",
     "text": [
      "0.712581344902\n"
     ]
    }
   ],
   "source": [
    "from sklearn.naive_bayes import BernoulliNB, MultinomialNB, GaussianNB\n",
    "mnb=MultinomialNB()\n",
    "mnb.fit(X_train, y_train)\n",
    "print(mnb.score(X_test, y_test))\n",
    "#print(bnb.score(soil_test, y_test))\n",
    "#print(confusion_matrix(seed_df['Section'],bnb.predict(soil)))\n",
    "#print(classification_report(y_test,bnb.predict(soil)))"
   ]
  },
  {
   "cell_type": "code",
   "execution_count": null,
   "metadata": {
    "collapsed": true
   },
   "outputs": [],
   "source": [
    "print(confusion_matrix(seed_df['Chapter'],mnb.predict(soil)))\n",
    "print(classification_report(y_test,mnb.predict(X_test)))"
   ]
  },
  {
   "cell_type": "code",
   "execution_count": 10,
   "metadata": {},
   "outputs": [
    {
     "name": "stdout",
     "output_type": "stream",
     "text": [
      "0.73535791757\n"
     ]
    }
   ],
   "source": [
    "from sklearn.linear_model import LogisticRegression\n",
    "lr=LogisticRegression()\n",
    "lr.fit(X_train, y_train)\n",
    "print(lr.score(X_test, y_test))\n",
    "#print(bnb.score(soil_test, y_test))\n",
    "#print(confusion_matrix(seed_df['Chapter'],lr.predict(soil)))\n",
    "#print(classification_report(y_test,lr.predict(X_test)))"
   ]
  },
  {
   "cell_type": "code",
   "execution_count": null,
   "metadata": {
    "collapsed": true
   },
   "outputs": [],
   "source": []
  },
  {
   "cell_type": "code",
   "execution_count": null,
   "metadata": {
    "collapsed": true
   },
   "outputs": [],
   "source": [
    "# from sklearn.model_selection import GridSearchCV\n",
    "# from sklearn.linear_model import LogisticRegression\n",
    "# parameters = {'class_weight':('balanced', None), 'solver':('newton-cg', 'lbfgs', 'liblinear', 'sag', 'saga')}\n",
    "# lr_for_gs=LogisticRegression()\n",
    "# lrgs = GridSearchCV(lr_for_gs, parameters,verbose=2)\n",
    "# lrgs.fit(soil.as_matrix(), seed_df['Section'])"
   ]
  },
  {
   "cell_type": "code",
   "execution_count": null,
   "metadata": {
    "collapsed": true
   },
   "outputs": [],
   "source": [
    "print(confusion_matrix(seed_df['Chapter'],lr.predict(soil)))\n",
    "print(classification_report(y_test,lr.predict(X_test)))"
   ]
  },
  {
   "cell_type": "code",
   "execution_count": null,
   "metadata": {
    "collapsed": true
   },
   "outputs": [],
   "source": [
    "from sklearn.ensemble import RandomForestClassifier\n",
    "from sklearn.metrics import confusion_matrix, classification_report\n",
    "rf=RandomForestClassifier(200)\n",
    "rf.fit(X_train, y_train)\n",
    "print(rf.score(X_test, y_test))\n",
    "#print(bnb.score(soil_test, y_test))\n",
    "#print(confusion_matrix(seed_df['Chapter'],lr.predict(soil)))\n",
    "#print(classification_report(y_test,lr.predict(X_test)))"
   ]
  },
  {
   "cell_type": "code",
   "execution_count": null,
   "metadata": {
    "collapsed": true
   },
   "outputs": [],
   "source": [
    "print(confusion_matrix(seed_df['Chapter'],rf.predict(soil)))\n",
    "print(classification_report(y_test,rf.predict(X_test)))"
   ]
  },
  {
   "cell_type": "code",
   "execution_count": null,
   "metadata": {
    "collapsed": true
   },
   "outputs": [],
   "source": [
    "from sklearn.ensemble import VotingClassifier\n",
    "vc = VotingClassifier(estimators=[\n",
    "        ('lr', lr), ('rf', rf), ('mnb', mnb)], voting='soft')\n",
    "\n",
    "vc.fit(X_train, y_train)\n",
    "print(vc.score(X_test, y_test))\n",
    "\n",
    "\n"
   ]
  },
  {
   "cell_type": "code",
   "execution_count": null,
   "metadata": {
    "collapsed": true
   },
   "outputs": [],
   "source": [
    "print(confusion_matrix(seed_df['Chapter'],vc.predict(soil)))\n",
    "print(classification_report(y_test,vc.predict(X_test)))"
   ]
  },
  {
   "cell_type": "code",
   "execution_count": null,
   "metadata": {
    "collapsed": true
   },
   "outputs": [],
   "source": [
    "sanity_check=pd.DataFrame()"
   ]
  },
  {
   "cell_type": "code",
   "execution_count": null,
   "metadata": {
    "collapsed": true
   },
   "outputs": [],
   "source": [
    "print"
   ]
  },
  {
   "cell_type": "code",
   "execution_count": null,
   "metadata": {
    "collapsed": true
   },
   "outputs": [],
   "source": [
    "sanity_check['label']=seed_df['Section']\n",
    "#sanity_check['lr_prediction']=lr.predict(soil)\n",
    "#sanity_check['rf_prediction']=rf.predict(soil)\n",
    "#sanity_check['mnb_prediction']=mnb.predict(soil)\n",
    "sanity_check['vc_prediction']=vc.predict(soil)\n",
    "sanity_check['original_text']=seed_df['Text']\n",
    "sanity_check['stemmed_text']=seed_df['Stemmed']"
   ]
  },
  {
   "cell_type": "code",
   "execution_count": null,
   "metadata": {
    "collapsed": true
   },
   "outputs": [],
   "source": [
    "def is_right(x):\n",
    "    if x==True:\n",
    "        return 1\n",
    "    else:\n",
    "        return 0"
   ]
  },
  {
   "cell_type": "code",
   "execution_count": null,
   "metadata": {
    "collapsed": true
   },
   "outputs": [],
   "source": [
    "sanity_check['lr_correct']=sanity_check['label']==sanity_check['lr_prediction']\n",
    "sanity_check['rf_correct']=sanity_check['label']==sanity_check['rf_prediction']\n",
    "sanity_check['mnb_correct']=sanity_check['label']==sanity_check['mnb_prediction']\n",
    "sanity_check['vc_correct']=sanity_check['label']==sanity_check['vc_prediction']"
   ]
  },
  {
   "cell_type": "code",
   "execution_count": null,
   "metadata": {
    "collapsed": true
   },
   "outputs": [],
   "source": [
    "sanity_check['lr_correct_num']=sanity_check['lr_correct'].apply(is_right)\n",
    "sanity_check['rf_correct_num']=sanity_check['rf_correct'].apply(is_right)\n",
    "sanity_check['mnb_correct_num']=sanity_check['mnb_correct'].apply(is_right)\n",
    "sanity_check['vc_correct_num']=sanity_check['vc_correct'].apply(is_right)"
   ]
  },
  {
   "cell_type": "code",
   "execution_count": null,
   "metadata": {
    "collapsed": true
   },
   "outputs": [],
   "source": [
    "sanity_check.head()"
   ]
  },
  {
   "cell_type": "code",
   "execution_count": null,
   "metadata": {
    "collapsed": true
   },
   "outputs": [],
   "source": [
    "sanity_check['number_correct']=sanity_check['lr_correct_num']+sanity_check['rf_correct_num']+sanity_check['mnb_correct_num']\n"
   ]
  },
  {
   "cell_type": "code",
   "execution_count": null,
   "metadata": {
    "collapsed": true
   },
   "outputs": [],
   "source": [
    "sanity_check[sanity_check['vc_correct']].shape"
   ]
  },
  {
   "cell_type": "code",
   "execution_count": null,
   "metadata": {
    "collapsed": true
   },
   "outputs": [],
   "source": [
    "sanity_check['word_count']=seed_df['Text'].apply(get_word_count)\n",
    "sanity_check['stemmed_word_count']=seed_df['Stemmed'].apply(get_word_count)"
   ]
  },
  {
   "cell_type": "code",
   "execution_count": null,
   "metadata": {
    "collapsed": true
   },
   "outputs": [],
   "source": [
    "sanity_check[sanity_check['stemmed_word_count']<10].shape"
   ]
  },
  {
   "cell_type": "code",
   "execution_count": null,
   "metadata": {
    "collapsed": true
   },
   "outputs": [],
   "source": [
    "sanity_check[(sanity_check['label']!=sanity_check['prediction'])].shape"
   ]
  },
  {
   "cell_type": "code",
   "execution_count": null,
   "metadata": {
    "collapsed": true
   },
   "outputs": [],
   "source": [
    "num=113\n",
    "print(sanity_check[(sanity_check['label']!=sanity_check['prediction'])].iloc[num])\n",
    "print(sanity_check[(sanity_check['label']!=sanity_check['prediction'])].iloc[num]['original_text'])\n",
    "\n"
   ]
  },
  {
   "cell_type": "code",
   "execution_count": null,
   "metadata": {
    "collapsed": true
   },
   "outputs": [],
   "source": [
    "sanity_check[sanity_check['label']!=sanity_check['prediction']].describe()"
   ]
  },
  {
   "cell_type": "code",
   "execution_count": null,
   "metadata": {
    "collapsed": true
   },
   "outputs": [],
   "source": [
    "sanity_check[sanity_check['label']==sanity_check['prediction']].describe()"
   ]
  },
  {
   "cell_type": "code",
   "execution_count": null,
   "metadata": {
    "collapsed": true
   },
   "outputs": [],
   "source": [
    "sanity_check[sanity_check['label']!=sanity_check['prediction']]['stemmed_text'].duplicated().value_counts()"
   ]
  },
  {
   "cell_type": "code",
   "execution_count": null,
   "metadata": {
    "collapsed": true
   },
   "outputs": [],
   "source": [
    "sanity_check[sanity_check['label']==sanity_check['prediction']]['stemmed_text'].duplicated().value_counts()"
   ]
  },
  {
   "cell_type": "code",
   "execution_count": null,
   "metadata": {
    "collapsed": true
   },
   "outputs": [],
   "source": [
    "sanity_check[sanity_check['word_count']>160].iloc[0]\n",
    "sanity_check[sanity_check['word_count']<10].iloc[]['original_text']"
   ]
  },
  {
   "cell_type": "code",
   "execution_count": null,
   "metadata": {
    "collapsed": true
   },
   "outputs": [],
   "source": [
    "question='The gastric juice of a person contains 2.19g of HCl per litre how many antacid tablets each containing 520mg of Al(OH)3 are required to neutralize the acid completely'\n",
    "#question='The radius of a silver atom is 145 pm. How many silver atoms would have to be laid side by side to span a distance of 4.70 mm?'\n",
    "#question='A block of wood 3.0cm on each side has a mass of 27g . What is the density of this block ?'\n",
    "#question='How do you calculate the ideal gas law constant?'\n",
    "question='When are roman numerals used when naming compounds'\n",
    "#question='Osmium has a density of 22.6 #\"g/cm\"^3#. What volume (in #\"cm\"^3#) would be occupied by a 0.0218 kg sample of osmium. Is it easier to do the V= m/d formula of should you do a conversion since you have kg and #\"cm\"^3#?'\n",
    "#question='Why is water liquid where as H2S is gas at room temperature?'\n",
    "#question='Why are gamma rays harmful to living creatures?'\n",
    "#question='How is molecular polarity related to solubility?'\n",
    "question='What is the enthalpy of formation of carbon monoxide in KJ/mol ? C(s) + O2(g) --> CO2(g) ΔH° = -393 kJ 2CO(g) + O2(g) --> 2CO(g) ΔH° = -588 kJ'\n",
    "question='What physical or chemical changes occur in a flame?'"
   ]
  },
  {
   "cell_type": "code",
   "execution_count": null,
   "metadata": {
    "collapsed": true
   },
   "outputs": [],
   "source": [
    "from nltk.stem import PorterStemmer\n",
    "stemmer = PorterStemmer()\n",
    "new_question=''    \n",
    "for item in question.split():\n",
    "    if len(item)>3:\n",
    "        new_question +=stemmer.stem(item)+' '\n",
    "    else:\n",
    "        new_question +=item+' '"
   ]
  },
  {
   "cell_type": "code",
   "execution_count": null,
   "metadata": {
    "collapsed": true
   },
   "outputs": [],
   "source": [
    "stemmer.stem('boric')"
   ]
  },
  {
   "cell_type": "code",
   "execution_count": null,
   "metadata": {
    "collapsed": true
   },
   "outputs": [],
   "source": [
    "cv.get_feature_names()[497:]"
   ]
  },
  {
   "cell_type": "code",
   "execution_count": null,
   "metadata": {
    "collapsed": true
   },
   "outputs": [],
   "source": [
    "testpd=cv.transform([new_question, 'testing'])"
   ]
  },
  {
   "cell_type": "code",
   "execution_count": null,
   "metadata": {
    "collapsed": true
   },
   "outputs": [],
   "source": [
    "testpd.shape"
   ]
  },
  {
   "cell_type": "code",
   "execution_count": null,
   "metadata": {
    "collapsed": true
   },
   "outputs": [],
   "source": [
    "vc.predict(testpd[:,497:])"
   ]
  },
  {
   "cell_type": "code",
   "execution_count": null,
   "metadata": {
    "collapsed": true
   },
   "outputs": [],
   "source": [
    "vc.predict_proba(testpd[:,497:])"
   ]
  },
  {
   "cell_type": "code",
   "execution_count": null,
   "metadata": {
    "collapsed": true
   },
   "outputs": [],
   "source": [
    "for group,prob in zip(vc.classes_,vc.predict_proba(testpd[:,497:])[0]):\n",
    "    print(group,prob)"
   ]
  },
  {
   "cell_type": "code",
   "execution_count": null,
   "metadata": {
    "collapsed": true
   },
   "outputs": [],
   "source": [
    "len(vc.classes_)"
   ]
  },
  {
   "cell_type": "code",
   "execution_count": null,
   "metadata": {
    "collapsed": true
   },
   "outputs": [],
   "source": []
  }
 ],
 "metadata": {
  "kernelspec": {
   "display_name": "Python 3",
   "language": "python",
   "name": "python3"
  },
  "language_info": {
   "codemirror_mode": {
    "name": "ipython",
    "version": 3
   },
   "file_extension": ".py",
   "mimetype": "text/x-python",
   "name": "python",
   "nbconvert_exporter": "python",
   "pygments_lexer": "ipython3",
   "version": "3.6.1"
  }
 },
 "nbformat": 4,
 "nbformat_minor": 2
}
