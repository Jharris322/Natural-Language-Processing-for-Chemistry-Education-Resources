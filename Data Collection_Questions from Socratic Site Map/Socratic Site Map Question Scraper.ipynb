{
 "cells": [
  {
   "cell_type": "code",
   "execution_count": 9,
   "metadata": {},
   "outputs": [],
   "source": [
    "import pandas as pd\n",
    "import numpy as np\n",
    "import matplotlib.pyplot as plt\n",
    "import requests\n",
    "from bs4 import BeautifulSoup\n",
    "\n",
    "from scrapy.selector import Selector\n",
    "from scrapy.http import HtmlResponse"
   ]
  },
  {
   "cell_type": "code",
   "execution_count": null,
   "metadata": {
    "collapsed": true
   },
   "outputs": [],
   "source": [
    "hyperlink = 'https://socratic.org/sitemap/chemistry'\n",
    "name = requests.get(hyperlink)\n",
    "#soup = BeautifulSoup(name, 'lxml')"
   ]
  },
  {
   "cell_type": "code",
   "execution_count": null,
   "metadata": {
    "collapsed": true
   },
   "outputs": [],
   "source": []
  },
  {
   "cell_type": "code",
   "execution_count": 17,
   "metadata": {},
   "outputs": [
    {
     "data": {
      "text/plain": [
       "200"
      ]
     },
     "execution_count": 17,
     "metadata": {},
     "output_type": "execute_result"
    }
   ],
   "source": [
    "name.status_code"
   ]
  },
  {
   "cell_type": "code",
   "execution_count": 7,
   "metadata": {},
   "outputs": [],
   "source": [
    "soup = BeautifulSoup(name.text, 'lxml')"
   ]
  },
  {
   "cell_type": "code",
   "execution_count": 40,
   "metadata": {
    "collapsed": true
   },
   "outputs": [],
   "source": [
    "string_url=\"//div[@id='content']/ul/ul/ul/ul/ul/ul/ul/ul/ul/ul/ul/ul/ul/ul/ul/ul/ul/ul/ul/ul/ul/ul/ul/ul/ul/ul/ul/ul/ul/ul/ul/ul/ul/ul/ul/ul/ul/ul/ul/ul/ul/ul/ul/ul/ul/ul/ul/ul/ul/ul/ul/ul/ul/ul/ul/ul/ul/li[{}]/a\"\n",
    "\n",
    "\n"
   ]
  },
  {
   "cell_type": "code",
   "execution_count": 42,
   "metadata": {},
   "outputs": [
    {
     "data": {
      "text/plain": [
       "\"//div[@id='content']/ul/ul/ul/ul/ul/ul/ul/ul/ul/ul/ul/ul/ul/ul/ul/ul/ul/ul/ul/ul/ul/ul/ul/ul/ul/ul/ul/ul/ul/ul/ul/ul/ul/ul/ul/ul/ul/ul/ul/ul/ul/ul/ul/ul/ul/ul/ul/ul/ul/ul/ul/ul/ul/ul/ul/ul/ul/li[1]/a\""
      ]
     },
     "execution_count": 42,
     "metadata": {},
     "output_type": "execute_result"
    }
   ],
   "source": [
    "string_url.format(1)"
   ]
  },
  {
   "cell_type": "code",
   "execution_count": 60,
   "metadata": {},
   "outputs": [],
   "source": [
    "for line in range(1,10):\n",
    "    exec(\"q_{}=Selector(text=soup.prettify()).xpath(string_url.format({})+'/text()').extract()[0].replace('  ','').replace('\\\\n','').strip()\".format(line,line))\n",
    "    "
   ]
  },
  {
   "cell_type": "code",
   "execution_count": 65,
   "metadata": {},
   "outputs": [
    {
     "data": {
      "text/plain": [
       "'Which of the next salts have better solubility in 1.0M NH3 than in distilled water?Na2CO3, KCl, AgBr, KNO3'"
      ]
     },
     "execution_count": 65,
     "metadata": {},
     "output_type": "execute_result"
    }
   ],
   "source": [
    "q_4"
   ]
  },
  {
   "cell_type": "code",
   "execution_count": 48,
   "metadata": {},
   "outputs": [
    {
     "ename": "AttributeError",
     "evalue": "'list' object has no attribute 'replace'",
     "output_type": "error",
     "traceback": [
      "\u001b[0;31m---------------------------------------------------------------------------\u001b[0m",
      "\u001b[0;31mAttributeError\u001b[0m                            Traceback (most recent call last)",
      "\u001b[0;32m<ipython-input-48-135fca93ffc9>\u001b[0m in \u001b[0;36m<module>\u001b[0;34m()\u001b[0m\n\u001b[0;32m----> 1\u001b[0;31m \u001b[0mexec\u001b[0m\u001b[0;34m(\u001b[0m\u001b[0;34m\"q_{}=Selector(text=soup.prettify()).xpath(string_url.format({})+'/text()').extract().replace('  ','')\"\u001b[0m\u001b[0;34m.\u001b[0m\u001b[0mformat\u001b[0m\u001b[0;34m(\u001b[0m\u001b[0;36m2\u001b[0m\u001b[0;34m,\u001b[0m\u001b[0;36m2\u001b[0m\u001b[0;34m)\u001b[0m\u001b[0;34m)\u001b[0m\u001b[0;34m\u001b[0m\u001b[0m\n\u001b[0m",
      "\u001b[0;32m<string>\u001b[0m in \u001b[0;36m<module>\u001b[0;34m()\u001b[0m\n",
      "\u001b[0;31mAttributeError\u001b[0m: 'list' object has no attribute 'replace'"
     ]
    }
   ],
   "source": [
    "exec(\"q_{}=Selector(text=soup.prettify()).xpath(string_url.format({})+'/text()').extract().replace('  ','')\".format(2,2))"
   ]
  },
  {
   "cell_type": "code",
   "execution_count": 56,
   "metadata": {},
   "outputs": [],
   "source": [
    "exec(\"q_{}=Selector(text=soup.prettify()).xpath(string_url.format({})+'/text()').extract()[0].replace('  ','').replace('\\\\n','').strip()\".format(2,2))\n",
    "\n"
   ]
  },
  {
   "cell_type": "code",
   "execution_count": 57,
   "metadata": {},
   "outputs": [
    {
     "data": {
      "text/plain": [
       "'At a pressure 41 kPa, the gas in a cylinder has a volume of 12 liters. Assuming temperature remains the same, if the volume of the gas is decreased to 3 liters, what is the new pressure?Answer needs to be in kPa'"
      ]
     },
     "execution_count": 57,
     "metadata": {},
     "output_type": "execute_result"
    }
   ],
   "source": [
    "q_2"
   ]
  },
  {
   "cell_type": "code",
   "execution_count": 43,
   "metadata": {},
   "outputs": [],
   "source": [
    "q_1=Selector(text=soup.prettify()).xpath(string_url.format(1)+'/text()').extract()"
   ]
  },
  {
   "cell_type": "code",
   "execution_count": 35,
   "metadata": {
    "collapsed": true
   },
   "outputs": [],
   "source": [
    "q_83=Selector(text=soup.prettify()).xpath('//li[83]/a/text()').extract()[0]"
   ]
  },
  {
   "cell_type": "code",
   "execution_count": 44,
   "metadata": {},
   "outputs": [
    {
     "data": {
      "text/plain": [
       "['\\n                                                               If the molarity of anhydrous sodium tetraoxosulphate(vi) is 40, Calculate the mass of salt in 1200g of saturated solution ?\\n                                                              ']"
      ]
     },
     "execution_count": 44,
     "metadata": {},
     "output_type": "execute_result"
    }
   ],
   "source": [
    "q_1"
   ]
  },
  {
   "cell_type": "code",
   "execution_count": 38,
   "metadata": {},
   "outputs": [
    {
     "data": {
      "text/plain": [
       "''"
      ]
     },
     "execution_count": 38,
     "metadata": {},
     "output_type": "execute_result"
    }
   ],
   "source": [
    "q_1.replace('  ','').replace('\\n','').strip()"
   ]
  },
  {
   "cell_type": "code",
   "execution_count": 12,
   "metadata": {},
   "outputs": [
    {
     "data": {
      "text/plain": [
       "[]"
      ]
     },
     "execution_count": 12,
     "metadata": {},
     "output_type": "execute_result"
    }
   ],
   "source": [
    "Selector(text=soup.prettify()).xpath('/html/body/span/text()').extract()"
   ]
  },
  {
   "cell_type": "code",
   "execution_count": 5,
   "metadata": {},
   "outputs": [
    {
     "data": {
      "text/plain": [
       "'\\n<!DOCTYPE html>\\n<html>\\n<head>\\n\\n\\n<meta name=\"csrf-token\" content=\"1502485465##dd7e9965546500e38e2f52594a9b85c45162da38\">\\n\\n<meta name=\"uptime-string\" content=\"T4dV75KJJC0xpGdIBxEG\">\\n<meta charset=\"utf-8\">\\n<meta http-equiv=\"X-UA-Compatible\" content=\"IE=edge\">\\n\\n<title>Site Map - Chemistry Lessons | Socratic</title>\\n<meta name=\"description\" content=\"All lessons in Chemistry\"/>\\n\\n<link href=\"https://socratic.org/sitemap/chemistry\" rel=\"canonical\"/>\\n\\n<link rel=\"icon\" type=\"image/png\" href=\"https://d3rhpu6w6k3vrv.cloudfront.net/static/images/favicon32.png\"/>\\n\\n<meta name=\"google-site-verification\" content=\"KPpRSeYqJagzMJIt2YcPHKaz9bemdrB9ZPf0y53CC2E\"/>\\n<meta name=\"msvalidate.01\" content=\"0451EDE6FAD80488BAFF9B731C685FFC\"/>\\n\\n<meta property=\"fb:app_id\" content=\"233731410114634\"/>\\n<meta property=\"og:site_name\" content=\"Socratic.org\">\\n<meta property=\"og:type\" content=\"website\">\\n<meta property=\"og:title\" itemprop=\"name\" content=\"Site Map - Chemistry Lessons | Socratic\">\\n<meta property=\"og:description\" content=\"All lessons in Chemistry\">\\n<meta property=\"og:image\" itemprop=\"image primaryImageOfPage\" content=\"https://d3rhpu6w6k3vrv.cloudfront.net/static/images/socratic-profile-with-name.png\">\\n<meta property=\"og:url\" content=\"https://socratic.org/sitemap/chemistry\">\\n\\n<meta name=\"twitter:card\" content=\"summary\">\\n<meta name=\"twitter:site\" content=\"@SocraticOrg\">\\n<meta name=\"twitter:domain\" content=\"socratic.org\">\\n<meta name=\"twitter:image:src\" content=\"https://d3rhpu6w6k3vrv.cloudfront.net/static/images/socratic-profile-with-name.png\">\\n\\n<script type=\"text/javascript\">\\n    var App = App || {};\\n    App.Collections = App.Collections || {};\\n    App.Data = App.Data || {};\\n    App.Images = App.Images || {};\\n    App.Mixins = App.Mixins || {};\\n    App.Models = App.Models || {};\\n    App.Utils = App.Utils || {};\\n    App.Views = App.Views || {};\\n    App.Bootstrapped = App.Bootstrapped || {};\\n</script>\\n\\n<script type=\"text/javascript\">\\nwindow.NREUM||(NREUM={}),__nr_require=function(t,e,n){function r(n){if(!e[n]){var o=e[n]={exports:{}};t[n][0].call(o.exports,function(e){var o=t[n][1][e];return r(o||e)},o,o.exports)}return e[n].exports}if(\"function\"==typeof __nr_require)return __nr_require;for(var o=0;o<n.length;o++)r(n[o]);return r}({QJf3ax:[function(t,e){function n(t){function e(e,n,a){t&&t(e,n,a),a||(a={});for(var c=s(e),f=c.length,u=i(a,o,r),d=0;f>d;d++)c[d].apply(u,n);return u}function a(t,e){f[t]=s(t).concat(e)}function s(t){return f[t]||[]}function c(){return n(e)}var f={};return{on:a,emit:e,create:c,listeners:s,_events:f}}function r(){return{}}var o=\"nr@context\",i=t(\"gos\");e.exports=n()},{gos:\"7eSDFh\"}],ee:[function(t,e){e.exports=t(\"QJf3ax\")},{}],3:[function(t){function e(t){try{i.console&&console.log(t)}catch(e){}}var n,r=t(\"ee\"),o=t(1),i={};try{n=localStorage.getItem(\"__nr_flags\").split(\",\"),console&&\"function\"==typeof console.log&&(i.console=!0,-1!==n.indexOf(\"dev\")&&(i.dev=!0),-1!==n.indexOf(\"nr_dev\")&&(i.nrDev=!0))}catch(a){}i.nrDev&&r.on(\"internal-error\",function(t'"
      ]
     },
     "execution_count": 5,
     "metadata": {},
     "output_type": "execute_result"
    }
   ],
   "source": [
    "name.text[:3000]"
   ]
  },
  {
   "cell_type": "code",
   "execution_count": null,
   "metadata": {
    "collapsed": true
   },
   "outputs": [],
   "source": []
  }
 ],
 "metadata": {
  "kernelspec": {
   "display_name": "Python 3",
   "language": "python",
   "name": "python3"
  },
  "language_info": {
   "codemirror_mode": {
    "name": "ipython",
    "version": 3
   },
   "file_extension": ".py",
   "mimetype": "text/x-python",
   "name": "python",
   "nbconvert_exporter": "python",
   "pygments_lexer": "ipython3",
   "version": "3.6.1"
  }
 },
 "nbformat": 4,
 "nbformat_minor": 2
}
